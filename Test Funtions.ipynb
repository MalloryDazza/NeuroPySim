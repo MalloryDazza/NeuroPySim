{
 "cells": [
  {
   "cell_type": "code",
   "execution_count": 109,
   "metadata": {},
   "outputs": [],
   "source": [
    "import numpy as np\n",
    "import matplotlib.pyplot as plt\n",
    "%matplotlib qt4"
   ]
  },
  {
   "cell_type": "code",
   "execution_count": 87,
   "metadata": {},
   "outputs": [],
   "source": [
    "def LogBinning_Histogram(data, bins_number):\n",
    "    '''\n",
    "    Compute the histogram according to a logarithmic binning of the data\n",
    "    \n",
    "    parameters : \n",
    "    ------------\n",
    "    \n",
    "    data : 1d array ; data points\n",
    "    \n",
    "    bins_number : int, number of bins\n",
    "    '''\n",
    "    \n",
    "    c = np.max(data)**(1./(bins_number))\n",
    "\n",
    "    bins = c**np.arange(1,bins_number+1,1)\n",
    "    \n",
    "    hist, bins = np.histogram(data, bins)\n",
    "    \n",
    "    return hist, bins"
   ]
  },
  {
   "cell_type": "code",
   "execution_count": 348,
   "metadata": {},
   "outputs": [],
   "source": [
    "root = '/media/mallory/Hive/Percolation/Space/'\n",
    "std = 3\n",
    "name = 'GaussNet_std' + str(std)\n",
    "QP_param = { 2 : np.linspace(0.001,0.012,15),\n",
    "              3 : np.linspace(0.03,0.05,15), \n",
    "              4 : np.linspace(0.08,0.11,15),\n",
    "              5 : np.linspace(0.15,0.17,15), \n",
    "              6 : np.linspace(0.22,0.27,15),\n",
    "              7 : np.linspace(0.33,0.37,15), \n",
    "              8 : np.linspace(0.42,0.57,15),\n",
    "              9 : np.linspace(0.5,0.68,15) }"
   ]
  },
  {
   "cell_type": "code",
   "execution_count": 349,
   "metadata": {
    "scrolled": true
   },
   "outputs": [],
   "source": [
    "plt.figure()\n",
    "for m in [2,3,4,5,6,7,8,9]:\n",
    "    NOI = []\n",
    "    for f in QP_param[m]:\n",
    "        act = np.load(root + name + 'Branching_threshold' + str(m) + '_finit' + str(f) +'.npy')\n",
    "        NOI.append(act.shape[0])\n",
    "        #plt.plot(act, label = str(f))\n",
    "        #h,b = LogBinning_Histogram(act, 5001)\n",
    "        #bins = (b[1:] + b[:-1]) / 2.\n",
    "        #h,b = np.histogram(act, np.linspace(0.,10000,200))\n",
    "        #plt.loglog(b[:-1], h, marker = '.')\n",
    "    plt.plot(QP_param[m], NOI)\n",
    "#plt.hlines(1, 0, 100)\n",
    "#plt.legend()"
   ]
  },
  {
   "cell_type": "code",
   "execution_count": 275,
   "metadata": {},
   "outputs": [],
   "source": []
  },
  {
   "cell_type": "code",
   "execution_count": 114,
   "metadata": {},
   "outputs": [
    {
     "data": {
      "text/plain": [
       "array([9977, 9977, 9977, ..., 9978, 9979, 9977])"
      ]
     },
     "execution_count": 114,
     "metadata": {},
     "output_type": "execute_result"
    }
   ],
   "source": []
  },
  {
   "cell_type": "code",
   "execution_count": null,
   "metadata": {},
   "outputs": [],
   "source": []
  }
 ],
 "metadata": {
  "kernelspec": {
   "display_name": "Python 2",
   "language": "python",
   "name": "python2"
  },
  "language_info": {
   "codemirror_mode": {
    "name": "ipython",
    "version": 2
   },
   "file_extension": ".py",
   "mimetype": "text/x-python",
   "name": "python",
   "nbconvert_exporter": "python",
   "pygments_lexer": "ipython2",
   "version": "2.7.15rc1"
  }
 },
 "nbformat": 4,
 "nbformat_minor": 2
}
